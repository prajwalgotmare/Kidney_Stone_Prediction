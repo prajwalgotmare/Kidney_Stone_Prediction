{
  "nbformat": 4,
  "nbformat_minor": 0,
  "metadata": {
    "colab": {
      "provenance": [],
      "authorship_tag": "ABX9TyMu4EaBFUsv+f0a3WqrOgdA",
      "include_colab_link": true
    },
    "kernelspec": {
      "name": "python3",
      "display_name": "Python 3"
    },
    "language_info": {
      "name": "python"
    }
  },
  "cells": [
    {
      "cell_type": "markdown",
      "metadata": {
        "id": "view-in-github",
        "colab_type": "text"
      },
      "source": [
        "<a href=\"https://colab.research.google.com/github/prajwalgotmare/Kidney_Stone_Prediction/blob/main/Kidney_stone_prediction.ipynb\" target=\"_parent\"><img src=\"https://colab.research.google.com/assets/colab-badge.svg\" alt=\"Open In Colab\"/></a>"
      ]
    },
    {
      "cell_type": "markdown",
      "source": [
        "## **About the Dataset**\n",
        "\n",
        "The kidney-stone-dataset.csv is a comma-separated values file containing data on patients with kidney stones. The file has 90 rows and 8 columns, with each row representing a patient and each column providing information on various characteristics and laboratory test results. The dataset includes a target variable, \"target\", which is a continuous variable representing the risk of developing kidney stones. The dataset can be used for tasks such as predicting the risk of kidney stones based on patient characteristics and test results.\n",
        "\n",
        "The eight columns in the dataset are as follows:\n",
        "\n",
        "- gravity: the specific gravity of urine\n",
        "- pH: the pH level of urine\n",
        "- osmo: the osmolarity of urine\n",
        "- cond: the conductivity of urine\n",
        "- urea: the urea concentration of urine\n",
        "- calc: the calcium concentration of urine\n",
        "- target: the risk of developing kidney stones (continuous variable)\n",
        "- shape: the shape of the dataset (90, 8)"
      ],
      "metadata": {
        "id": "e2UscTokMv15"
      }
    },
    {
      "cell_type": "markdown",
      "source": [
        "## Importing the required libraries and the dataset"
      ],
      "metadata": {
        "id": "t4vKzdPhjrYj"
      }
    },
    {
      "cell_type": "code",
      "execution_count": 22,
      "metadata": {
        "colab": {
          "base_uri": "https://localhost:8080/",
          "height": 206
        },
        "id": "ot9cMKjnHRyP",
        "outputId": "5f8a3e35-0390-4306-e90d-92941579ac22"
      },
      "outputs": [
        {
          "output_type": "execute_result",
          "data": {
            "text/plain": [
              "   Unnamed: 0  gravity    ph  osmo  cond  urea  calc  target\n",
              "0           0    1.021  4.91   725  14.0   443  2.45       0\n",
              "1           1    1.017  5.74   577  20.0   296  4.49       0\n",
              "2           2    1.008  7.20   321  14.9   101  2.36       0\n",
              "3           3    1.011  5.51   408  12.6   224  2.15       0\n",
              "4           4    1.005  6.52   187   7.5    91  1.16       0"
            ],
            "text/html": [
              "\n",
              "  <div id=\"df-59a0f09e-077d-4a30-82ff-beb395a72f94\">\n",
              "    <div class=\"colab-df-container\">\n",
              "      <div>\n",
              "<style scoped>\n",
              "    .dataframe tbody tr th:only-of-type {\n",
              "        vertical-align: middle;\n",
              "    }\n",
              "\n",
              "    .dataframe tbody tr th {\n",
              "        vertical-align: top;\n",
              "    }\n",
              "\n",
              "    .dataframe thead th {\n",
              "        text-align: right;\n",
              "    }\n",
              "</style>\n",
              "<table border=\"1\" class=\"dataframe\">\n",
              "  <thead>\n",
              "    <tr style=\"text-align: right;\">\n",
              "      <th></th>\n",
              "      <th>Unnamed: 0</th>\n",
              "      <th>gravity</th>\n",
              "      <th>ph</th>\n",
              "      <th>osmo</th>\n",
              "      <th>cond</th>\n",
              "      <th>urea</th>\n",
              "      <th>calc</th>\n",
              "      <th>target</th>\n",
              "    </tr>\n",
              "  </thead>\n",
              "  <tbody>\n",
              "    <tr>\n",
              "      <th>0</th>\n",
              "      <td>0</td>\n",
              "      <td>1.021</td>\n",
              "      <td>4.91</td>\n",
              "      <td>725</td>\n",
              "      <td>14.0</td>\n",
              "      <td>443</td>\n",
              "      <td>2.45</td>\n",
              "      <td>0</td>\n",
              "    </tr>\n",
              "    <tr>\n",
              "      <th>1</th>\n",
              "      <td>1</td>\n",
              "      <td>1.017</td>\n",
              "      <td>5.74</td>\n",
              "      <td>577</td>\n",
              "      <td>20.0</td>\n",
              "      <td>296</td>\n",
              "      <td>4.49</td>\n",
              "      <td>0</td>\n",
              "    </tr>\n",
              "    <tr>\n",
              "      <th>2</th>\n",
              "      <td>2</td>\n",
              "      <td>1.008</td>\n",
              "      <td>7.20</td>\n",
              "      <td>321</td>\n",
              "      <td>14.9</td>\n",
              "      <td>101</td>\n",
              "      <td>2.36</td>\n",
              "      <td>0</td>\n",
              "    </tr>\n",
              "    <tr>\n",
              "      <th>3</th>\n",
              "      <td>3</td>\n",
              "      <td>1.011</td>\n",
              "      <td>5.51</td>\n",
              "      <td>408</td>\n",
              "      <td>12.6</td>\n",
              "      <td>224</td>\n",
              "      <td>2.15</td>\n",
              "      <td>0</td>\n",
              "    </tr>\n",
              "    <tr>\n",
              "      <th>4</th>\n",
              "      <td>4</td>\n",
              "      <td>1.005</td>\n",
              "      <td>6.52</td>\n",
              "      <td>187</td>\n",
              "      <td>7.5</td>\n",
              "      <td>91</td>\n",
              "      <td>1.16</td>\n",
              "      <td>0</td>\n",
              "    </tr>\n",
              "  </tbody>\n",
              "</table>\n",
              "</div>\n",
              "      <button class=\"colab-df-convert\" onclick=\"convertToInteractive('df-59a0f09e-077d-4a30-82ff-beb395a72f94')\"\n",
              "              title=\"Convert this dataframe to an interactive table.\"\n",
              "              style=\"display:none;\">\n",
              "        \n",
              "  <svg xmlns=\"http://www.w3.org/2000/svg\" height=\"24px\"viewBox=\"0 0 24 24\"\n",
              "       width=\"24px\">\n",
              "    <path d=\"M0 0h24v24H0V0z\" fill=\"none\"/>\n",
              "    <path d=\"M18.56 5.44l.94 2.06.94-2.06 2.06-.94-2.06-.94-.94-2.06-.94 2.06-2.06.94zm-11 1L8.5 8.5l.94-2.06 2.06-.94-2.06-.94L8.5 2.5l-.94 2.06-2.06.94zm10 10l.94 2.06.94-2.06 2.06-.94-2.06-.94-.94-2.06-.94 2.06-2.06.94z\"/><path d=\"M17.41 7.96l-1.37-1.37c-.4-.4-.92-.59-1.43-.59-.52 0-1.04.2-1.43.59L10.3 9.45l-7.72 7.72c-.78.78-.78 2.05 0 2.83L4 21.41c.39.39.9.59 1.41.59.51 0 1.02-.2 1.41-.59l7.78-7.78 2.81-2.81c.8-.78.8-2.07 0-2.86zM5.41 20L4 18.59l7.72-7.72 1.47 1.35L5.41 20z\"/>\n",
              "  </svg>\n",
              "      </button>\n",
              "      \n",
              "  <style>\n",
              "    .colab-df-container {\n",
              "      display:flex;\n",
              "      flex-wrap:wrap;\n",
              "      gap: 12px;\n",
              "    }\n",
              "\n",
              "    .colab-df-convert {\n",
              "      background-color: #E8F0FE;\n",
              "      border: none;\n",
              "      border-radius: 50%;\n",
              "      cursor: pointer;\n",
              "      display: none;\n",
              "      fill: #1967D2;\n",
              "      height: 32px;\n",
              "      padding: 0 0 0 0;\n",
              "      width: 32px;\n",
              "    }\n",
              "\n",
              "    .colab-df-convert:hover {\n",
              "      background-color: #E2EBFA;\n",
              "      box-shadow: 0px 1px 2px rgba(60, 64, 67, 0.3), 0px 1px 3px 1px rgba(60, 64, 67, 0.15);\n",
              "      fill: #174EA6;\n",
              "    }\n",
              "\n",
              "    [theme=dark] .colab-df-convert {\n",
              "      background-color: #3B4455;\n",
              "      fill: #D2E3FC;\n",
              "    }\n",
              "\n",
              "    [theme=dark] .colab-df-convert:hover {\n",
              "      background-color: #434B5C;\n",
              "      box-shadow: 0px 1px 3px 1px rgba(0, 0, 0, 0.15);\n",
              "      filter: drop-shadow(0px 1px 2px rgba(0, 0, 0, 0.3));\n",
              "      fill: #FFFFFF;\n",
              "    }\n",
              "  </style>\n",
              "\n",
              "      <script>\n",
              "        const buttonEl =\n",
              "          document.querySelector('#df-59a0f09e-077d-4a30-82ff-beb395a72f94 button.colab-df-convert');\n",
              "        buttonEl.style.display =\n",
              "          google.colab.kernel.accessAllowed ? 'block' : 'none';\n",
              "\n",
              "        async function convertToInteractive(key) {\n",
              "          const element = document.querySelector('#df-59a0f09e-077d-4a30-82ff-beb395a72f94');\n",
              "          const dataTable =\n",
              "            await google.colab.kernel.invokeFunction('convertToInteractive',\n",
              "                                                     [key], {});\n",
              "          if (!dataTable) return;\n",
              "\n",
              "          const docLinkHtml = 'Like what you see? Visit the ' +\n",
              "            '<a target=\"_blank\" href=https://colab.research.google.com/notebooks/data_table.ipynb>data table notebook</a>'\n",
              "            + ' to learn more about interactive tables.';\n",
              "          element.innerHTML = '';\n",
              "          dataTable['output_type'] = 'display_data';\n",
              "          await google.colab.output.renderOutput(dataTable, element);\n",
              "          const docLink = document.createElement('div');\n",
              "          docLink.innerHTML = docLinkHtml;\n",
              "          element.appendChild(docLink);\n",
              "        }\n",
              "      </script>\n",
              "    </div>\n",
              "  </div>\n",
              "  "
            ]
          },
          "metadata": {},
          "execution_count": 22
        }
      ],
      "source": [
        "import pandas as pd\n",
        "import matplotlib.pyplot as plt\n",
        "%matplotlib inline\n",
        "\n",
        "# Load the dataset\n",
        "df = pd.read_csv('/content/kidney-stone-dataset.csv')\n",
        "df.head()"
      ]
    },
    {
      "cell_type": "code",
      "source": [
        "df = df.iloc[:, 1:] # removing the first column\n",
        "df"
      ],
      "metadata": {
        "colab": {
          "base_uri": "https://localhost:8080/",
          "height": 423
        },
        "id": "2XieotLNMGjW",
        "outputId": "c1f276ad-6eea-4bc8-ad40-63fd837194a0"
      },
      "execution_count": 23,
      "outputs": [
        {
          "output_type": "execute_result",
          "data": {
            "text/plain": [
              "     gravity        ph  osmo       cond  urea      calc  target\n",
              "0   1.021000  4.910000   725  14.000000   443  2.450000       0\n",
              "1   1.017000  5.740000   577  20.000000   296  4.490000       0\n",
              "2   1.008000  7.200000   321  14.900000   101  2.360000       0\n",
              "3   1.011000  5.510000   408  12.600000   224  2.150000       0\n",
              "4   1.005000  6.520000   187   7.500000    91  1.160000       0\n",
              "..       ...       ...   ...        ...   ...       ...     ...\n",
              "85  1.021452  5.556081   756  24.241481   367  7.669120       1\n",
              "86  1.016501  6.900257   549  20.549790   204  5.775256       1\n",
              "87  1.032754  5.443491  1085  23.188653   576  8.664169       1\n",
              "88  1.023870  5.106433   325  12.124689    50  0.781620       1\n",
              "89  1.013723  6.308943   472  16.907792   174  2.556405       1\n",
              "\n",
              "[90 rows x 7 columns]"
            ],
            "text/html": [
              "\n",
              "  <div id=\"df-cc879058-b19d-4fd5-a230-da338995afff\">\n",
              "    <div class=\"colab-df-container\">\n",
              "      <div>\n",
              "<style scoped>\n",
              "    .dataframe tbody tr th:only-of-type {\n",
              "        vertical-align: middle;\n",
              "    }\n",
              "\n",
              "    .dataframe tbody tr th {\n",
              "        vertical-align: top;\n",
              "    }\n",
              "\n",
              "    .dataframe thead th {\n",
              "        text-align: right;\n",
              "    }\n",
              "</style>\n",
              "<table border=\"1\" class=\"dataframe\">\n",
              "  <thead>\n",
              "    <tr style=\"text-align: right;\">\n",
              "      <th></th>\n",
              "      <th>gravity</th>\n",
              "      <th>ph</th>\n",
              "      <th>osmo</th>\n",
              "      <th>cond</th>\n",
              "      <th>urea</th>\n",
              "      <th>calc</th>\n",
              "      <th>target</th>\n",
              "    </tr>\n",
              "  </thead>\n",
              "  <tbody>\n",
              "    <tr>\n",
              "      <th>0</th>\n",
              "      <td>1.021000</td>\n",
              "      <td>4.910000</td>\n",
              "      <td>725</td>\n",
              "      <td>14.000000</td>\n",
              "      <td>443</td>\n",
              "      <td>2.450000</td>\n",
              "      <td>0</td>\n",
              "    </tr>\n",
              "    <tr>\n",
              "      <th>1</th>\n",
              "      <td>1.017000</td>\n",
              "      <td>5.740000</td>\n",
              "      <td>577</td>\n",
              "      <td>20.000000</td>\n",
              "      <td>296</td>\n",
              "      <td>4.490000</td>\n",
              "      <td>0</td>\n",
              "    </tr>\n",
              "    <tr>\n",
              "      <th>2</th>\n",
              "      <td>1.008000</td>\n",
              "      <td>7.200000</td>\n",
              "      <td>321</td>\n",
              "      <td>14.900000</td>\n",
              "      <td>101</td>\n",
              "      <td>2.360000</td>\n",
              "      <td>0</td>\n",
              "    </tr>\n",
              "    <tr>\n",
              "      <th>3</th>\n",
              "      <td>1.011000</td>\n",
              "      <td>5.510000</td>\n",
              "      <td>408</td>\n",
              "      <td>12.600000</td>\n",
              "      <td>224</td>\n",
              "      <td>2.150000</td>\n",
              "      <td>0</td>\n",
              "    </tr>\n",
              "    <tr>\n",
              "      <th>4</th>\n",
              "      <td>1.005000</td>\n",
              "      <td>6.520000</td>\n",
              "      <td>187</td>\n",
              "      <td>7.500000</td>\n",
              "      <td>91</td>\n",
              "      <td>1.160000</td>\n",
              "      <td>0</td>\n",
              "    </tr>\n",
              "    <tr>\n",
              "      <th>...</th>\n",
              "      <td>...</td>\n",
              "      <td>...</td>\n",
              "      <td>...</td>\n",
              "      <td>...</td>\n",
              "      <td>...</td>\n",
              "      <td>...</td>\n",
              "      <td>...</td>\n",
              "    </tr>\n",
              "    <tr>\n",
              "      <th>85</th>\n",
              "      <td>1.021452</td>\n",
              "      <td>5.556081</td>\n",
              "      <td>756</td>\n",
              "      <td>24.241481</td>\n",
              "      <td>367</td>\n",
              "      <td>7.669120</td>\n",
              "      <td>1</td>\n",
              "    </tr>\n",
              "    <tr>\n",
              "      <th>86</th>\n",
              "      <td>1.016501</td>\n",
              "      <td>6.900257</td>\n",
              "      <td>549</td>\n",
              "      <td>20.549790</td>\n",
              "      <td>204</td>\n",
              "      <td>5.775256</td>\n",
              "      <td>1</td>\n",
              "    </tr>\n",
              "    <tr>\n",
              "      <th>87</th>\n",
              "      <td>1.032754</td>\n",
              "      <td>5.443491</td>\n",
              "      <td>1085</td>\n",
              "      <td>23.188653</td>\n",
              "      <td>576</td>\n",
              "      <td>8.664169</td>\n",
              "      <td>1</td>\n",
              "    </tr>\n",
              "    <tr>\n",
              "      <th>88</th>\n",
              "      <td>1.023870</td>\n",
              "      <td>5.106433</td>\n",
              "      <td>325</td>\n",
              "      <td>12.124689</td>\n",
              "      <td>50</td>\n",
              "      <td>0.781620</td>\n",
              "      <td>1</td>\n",
              "    </tr>\n",
              "    <tr>\n",
              "      <th>89</th>\n",
              "      <td>1.013723</td>\n",
              "      <td>6.308943</td>\n",
              "      <td>472</td>\n",
              "      <td>16.907792</td>\n",
              "      <td>174</td>\n",
              "      <td>2.556405</td>\n",
              "      <td>1</td>\n",
              "    </tr>\n",
              "  </tbody>\n",
              "</table>\n",
              "<p>90 rows × 7 columns</p>\n",
              "</div>\n",
              "      <button class=\"colab-df-convert\" onclick=\"convertToInteractive('df-cc879058-b19d-4fd5-a230-da338995afff')\"\n",
              "              title=\"Convert this dataframe to an interactive table.\"\n",
              "              style=\"display:none;\">\n",
              "        \n",
              "  <svg xmlns=\"http://www.w3.org/2000/svg\" height=\"24px\"viewBox=\"0 0 24 24\"\n",
              "       width=\"24px\">\n",
              "    <path d=\"M0 0h24v24H0V0z\" fill=\"none\"/>\n",
              "    <path d=\"M18.56 5.44l.94 2.06.94-2.06 2.06-.94-2.06-.94-.94-2.06-.94 2.06-2.06.94zm-11 1L8.5 8.5l.94-2.06 2.06-.94-2.06-.94L8.5 2.5l-.94 2.06-2.06.94zm10 10l.94 2.06.94-2.06 2.06-.94-2.06-.94-.94-2.06-.94 2.06-2.06.94z\"/><path d=\"M17.41 7.96l-1.37-1.37c-.4-.4-.92-.59-1.43-.59-.52 0-1.04.2-1.43.59L10.3 9.45l-7.72 7.72c-.78.78-.78 2.05 0 2.83L4 21.41c.39.39.9.59 1.41.59.51 0 1.02-.2 1.41-.59l7.78-7.78 2.81-2.81c.8-.78.8-2.07 0-2.86zM5.41 20L4 18.59l7.72-7.72 1.47 1.35L5.41 20z\"/>\n",
              "  </svg>\n",
              "      </button>\n",
              "      \n",
              "  <style>\n",
              "    .colab-df-container {\n",
              "      display:flex;\n",
              "      flex-wrap:wrap;\n",
              "      gap: 12px;\n",
              "    }\n",
              "\n",
              "    .colab-df-convert {\n",
              "      background-color: #E8F0FE;\n",
              "      border: none;\n",
              "      border-radius: 50%;\n",
              "      cursor: pointer;\n",
              "      display: none;\n",
              "      fill: #1967D2;\n",
              "      height: 32px;\n",
              "      padding: 0 0 0 0;\n",
              "      width: 32px;\n",
              "    }\n",
              "\n",
              "    .colab-df-convert:hover {\n",
              "      background-color: #E2EBFA;\n",
              "      box-shadow: 0px 1px 2px rgba(60, 64, 67, 0.3), 0px 1px 3px 1px rgba(60, 64, 67, 0.15);\n",
              "      fill: #174EA6;\n",
              "    }\n",
              "\n",
              "    [theme=dark] .colab-df-convert {\n",
              "      background-color: #3B4455;\n",
              "      fill: #D2E3FC;\n",
              "    }\n",
              "\n",
              "    [theme=dark] .colab-df-convert:hover {\n",
              "      background-color: #434B5C;\n",
              "      box-shadow: 0px 1px 3px 1px rgba(0, 0, 0, 0.15);\n",
              "      filter: drop-shadow(0px 1px 2px rgba(0, 0, 0, 0.3));\n",
              "      fill: #FFFFFF;\n",
              "    }\n",
              "  </style>\n",
              "\n",
              "      <script>\n",
              "        const buttonEl =\n",
              "          document.querySelector('#df-cc879058-b19d-4fd5-a230-da338995afff button.colab-df-convert');\n",
              "        buttonEl.style.display =\n",
              "          google.colab.kernel.accessAllowed ? 'block' : 'none';\n",
              "\n",
              "        async function convertToInteractive(key) {\n",
              "          const element = document.querySelector('#df-cc879058-b19d-4fd5-a230-da338995afff');\n",
              "          const dataTable =\n",
              "            await google.colab.kernel.invokeFunction('convertToInteractive',\n",
              "                                                     [key], {});\n",
              "          if (!dataTable) return;\n",
              "\n",
              "          const docLinkHtml = 'Like what you see? Visit the ' +\n",
              "            '<a target=\"_blank\" href=https://colab.research.google.com/notebooks/data_table.ipynb>data table notebook</a>'\n",
              "            + ' to learn more about interactive tables.';\n",
              "          element.innerHTML = '';\n",
              "          dataTable['output_type'] = 'display_data';\n",
              "          await google.colab.output.renderOutput(dataTable, element);\n",
              "          const docLink = document.createElement('div');\n",
              "          docLink.innerHTML = docLinkHtml;\n",
              "          element.appendChild(docLink);\n",
              "        }\n",
              "      </script>\n",
              "    </div>\n",
              "  </div>\n",
              "  "
            ]
          },
          "metadata": {},
          "execution_count": 23
        }
      ]
    },
    {
      "cell_type": "code",
      "source": [
        "print(df['target'].value_counts())\n"
      ],
      "metadata": {
        "colab": {
          "base_uri": "https://localhost:8080/"
        },
        "id": "hIn1EQtFJQUW",
        "outputId": "274e4c76-e016-4b71-9f5a-2a0af7a34ea7"
      },
      "execution_count": 13,
      "outputs": [
        {
          "output_type": "stream",
          "name": "stdout",
          "text": [
            "0    45\n",
            "1    45\n",
            "Name: target, dtype: int64\n"
          ]
        }
      ]
    },
    {
      "cell_type": "markdown",
      "source": [
        "## Performing Basic EDA"
      ],
      "metadata": {
        "id": "kCq4_D2Uj1-b"
      }
    },
    {
      "cell_type": "code",
      "source": [
        "# Check for missing values\n",
        "print(df.isnull().sum())\n",
        "\n",
        "# Compute summary statistics\n",
        "print(df.describe())\n",
        "\n",
        "# Create visualizations of the data\n",
        "plt.hist(df['gravity'], bins=20)\n",
        "plt.xlabel('Gravity')\n",
        "plt.ylabel('Frequency')\n",
        "plt.show()"
      ],
      "metadata": {
        "colab": {
          "base_uri": "https://localhost:8080/",
          "height": 941
        },
        "id": "OWQBRol_LDd3",
        "outputId": "0da81583-2bd4-4507-937e-baeb48f27ef4"
      },
      "execution_count": 14,
      "outputs": [
        {
          "output_type": "stream",
          "name": "stdout",
          "text": [
            "gravity    0\n",
            "ph         0\n",
            "osmo       0\n",
            "cond       0\n",
            "urea       0\n",
            "calc       0\n",
            "target     0\n",
            "dtype: int64\n",
            "         gravity         ph         osmo       cond        urea       calc  \\\n",
            "count  90.000000  90.000000    90.000000  90.000000   90.000000  90.000000   \n",
            "mean    1.017952   6.036651   602.333333  20.621687  258.200000   4.017788   \n",
            "std     0.006780   0.711801   238.459805   7.654448  135.381127   3.016273   \n",
            "min     1.005000   4.760000   187.000000   5.100000   10.000000   0.170000   \n",
            "25%     1.012258   5.536520   411.500000  14.150000  148.250000   1.412500   \n",
            "50%     1.018000   5.936247   572.000000  21.177172  231.500000   3.230000   \n",
            "75%     1.023000   6.490000   778.000000  26.075000  366.250000   5.965127   \n",
            "max     1.034000   7.940000  1236.000000  38.000000  620.000000  13.000000   \n",
            "\n",
            "          target  \n",
            "count  90.000000  \n",
            "mean    0.500000  \n",
            "std     0.502801  \n",
            "min     0.000000  \n",
            "25%     0.000000  \n",
            "50%     0.500000  \n",
            "75%     1.000000  \n",
            "max     1.000000  \n"
          ]
        },
        {
          "output_type": "display_data",
          "data": {
            "text/plain": [
              "<Figure size 640x480 with 1 Axes>"
            ],
            "image/png": "[encoded data removed]"
          },
          "metadata": {}
        }
      ]
    },
    {
      "cell_type": "code",
      "source": [
        "# compute the correlation matrix\n",
        "corr_matrix = df.corr()\n",
        "\n",
        "# print the correlation matrix\n",
        "print(corr_matrix)\n"
      ],
      "metadata": {
        "colab": {
          "base_uri": "https://localhost:8080/"
        },
        "id": "nPSM2OXFLKRP",
        "outputId": "3f93e991-0e36-46fa-a8d6-a96ca4f773af"
      },
      "execution_count": 15,
      "outputs": [
        {
          "output_type": "stream",
          "name": "stdout",
          "text": [
            "          gravity        ph      osmo      cond      urea      calc    target\n",
            "gravity  1.000000 -0.328780  0.846836  0.575920  0.790409  0.510105  0.365280\n",
            "ph      -0.328780  1.000000 -0.235852 -0.058851 -0.284943 -0.113775 -0.087613\n",
            "osmo     0.846836 -0.235852  1.000000  0.820609  0.891854  0.551825  0.156219\n",
            "cond     0.575920 -0.058851  0.820609  1.000000  0.543052  0.385034  0.028540\n",
            "urea     0.790409 -0.284943  0.891854  0.543052  1.000000  0.551690  0.156647\n",
            "calc     0.510105 -0.113775  0.551825  0.385034  0.551690  1.000000  0.464382\n",
            "target   0.365280 -0.087613  0.156219  0.028540  0.156647  0.464382  1.000000\n"
          ]
        }
      ]
    },
    {
      "cell_type": "code",
      "source": [
        "import seaborn as sns\n",
        "\n",
        "# plot the heatmap\n",
        "sns.heatmap(corr_matrix, annot=True)"
      ],
      "metadata": {
        "colab": {
          "base_uri": "https://localhost:8080/",
          "height": 453
        },
        "id": "YWpi5J6CLyu9",
        "outputId": "0383aa11-8313-4f43-a0f4-344bcd787f08"
      },
      "execution_count": 16,
      "outputs": [
        {
          "output_type": "execute_result",
          "data": {
            "text/plain": [
              "<Axes: >"
            ]
          },
          "metadata": {},
          "execution_count": 16
        },
        {
          "output_type": "display_data",
          "data": {
            "text/plain": [
              "<Figure size 640x480 with 2 Axes>"
            ],
            "image/png": "[encoded data removed]"
          },
          "metadata": {}
        }
      ]
    },
    {
      "cell_type": "markdown",
      "source": [
        "## **Observation :**\n",
        "\n",
        "- We can Observe that the Osmolarity of kideny is more corelated conductivity of urine.\n",
        "- The ph level of urine is least related to any other feature in dataset.\n",
        "- Urea concentration of Urine is more related to Osmolarity of Urine."
      ],
      "metadata": {
        "id": "Qu-7hhZrMmEB"
      }
    },
    {
      "cell_type": "markdown",
      "source": [
        "## Training different models and checking its performance metrics"
      ],
      "metadata": {
        "id": "pgNQwMY5PR16"
      }
    },
    {
      "cell_type": "code",
      "source": [
        "import pandas as pd\n",
        "from sklearn.ensemble import RandomForestClassifier\n",
        "from sklearn.model_selection import train_test_split\n",
        "from sklearn.metrics import accuracy_score, confusion_matrix\n",
        "import matplotlib.pyplot as plt\n",
        "\n",
        "# Load the dataset\n",
        "# df = pd.read_csv('dataset.csv')\n",
        "\n",
        "# Split the dataset into training and testing sets\n",
        "X_train, X_test, y_train, y_test = train_test_split(df.drop('target', axis=1), df['target'], test_size=0.3, random_state=42)\n",
        "\n",
        "# Train a Random Forest classifier\n",
        "rf = RandomForestClassifier(n_estimators=100, random_state=42)\n",
        "rf.fit(X_train, y_train)\n",
        "\n",
        "# Make predictions on the test set\n",
        "y_pred = rf.predict(X_test)\n",
        "\n",
        "# Calculate accuracy and confusion matrix\n",
        "accuracy = accuracy_score(y_test, y_pred)\n",
        "cm = confusion_matrix(y_test, y_pred)\n",
        "\n",
        "# Print accuracy and confusion matrix\n",
        "print('Accuracy:', accuracy)\n",
        "print('Confusion matrix:', cm)\n",
        "\n",
        "# Plot the confusion matrix\n",
        "plt.matshow(cm)\n",
        "plt.title('Confusion matrix')\n",
        "plt.colorbar()\n",
        "plt.ylabel('True label')\n",
        "plt.xlabel('Predicted label')\n",
        "plt.show()"
      ],
      "metadata": {
        "colab": {
          "base_uri": "https://localhost:8080/",
          "height": 481
        },
        "id": "jMIJoEPeMinT",
        "outputId": "747488a0-5103-46a6-9ecc-78662c16018f"
      },
      "execution_count": 25,
      "outputs": [
        {
          "output_type": "stream",
          "name": "stdout",
          "text": [
            "Accuracy: 0.7407407407407407\n",
            "Confusion matrix: [[11  4]\n",
            " [ 3  9]]\n"
          ]
        },
        {
          "output_type": "display_data",
          "data": {
            "text/plain": [
              "<Figure size 480x480 with 2 Axes>"
            ],
            "image/png": "[encoded data removed]"
          },
          "metadata": {}
        }
      ]
    },
    {
      "cell_type": "code",
      "source": [
        "import pandas as pd\n",
        "from sklearn.model_selection import train_test_split\n",
        "from sklearn.metrics import accuracy_score, precision_score, recall_score, confusion_matrix\n",
        "from sklearn.linear_model import LogisticRegression\n",
        "from sklearn.tree import DecisionTreeClassifier\n",
        "from sklearn.ensemble import RandomForestClassifier\n",
        "from sklearn.svm import SVC\n",
        "import matplotlib.pyplot as plt\n",
        "import numpy as np\n",
        "\n",
        "from sklearn.metrics import confusion_matrix\n",
        "\n",
        "def specificity_score(y_true, y_pred):\n",
        "    tn, fp, fn, tp = confusion_matrix(y_true, y_pred).ravel()\n",
        "    specificity = tn / (tn+fp)\n",
        "    return specificity\n",
        "\n",
        "# Load the dataset\n",
        "# df = pd.read_csv('dataset.csv')\n",
        "\n",
        "# Split the dataset into training and testing sets\n",
        "X_train, X_test, y_train, y_test = train_test_split(df.drop('target', axis=1), df['target'], test_size=0.3, random_state=42)\n",
        "\n",
        "# Define the classifiers\n",
        "lr = LogisticRegression()\n",
        "dt = DecisionTreeClassifier()\n",
        "rf = RandomForestClassifier(n_estimators=100, random_state=42)\n",
        "svm = SVC(kernel='linear')\n",
        "\n",
        "classifiers = {'Logistic Regression': lr, 'Decision Tree': dt, 'Random Forest': rf, 'SVM': svm}\n",
        "\n",
        "# Train and evaluate each classifier\n",
        "results = {'Classifier': [], 'Accuracy': [], 'Precision': [], 'Recall': [], 'Specificity': []}\n",
        "\n",
        "for name, clf in classifiers.items():\n",
        "    clf.fit(X_train, y_train)\n",
        "    y_pred = clf.predict(X_test)\n",
        "    \n",
        "    accuracy = accuracy_score(y_test, y_pred)\n",
        "    precision = precision_score(y_test, y_pred)\n",
        "    recall = recall_score(y_test, y_pred)\n",
        "    specificity = specificity_score(y_test, y_pred)\n",
        "\n",
        "    results['Classifier'].append(name)\n",
        "    results['Accuracy'].append(accuracy)\n",
        "    results['Precision'].append(precision)\n",
        "    results['Recall'].append(recall)\n",
        "    results['Specificity'].append(specificity)\n",
        "    \n",
        "    cm = confusion_matrix(y_test, y_pred)\n",
        "    plt.matshow(cm)\n",
        "    plt.title('Confusion matrix for ' + name)\n",
        "    plt.colorbar()\n",
        "    plt.ylabel('True label')\n",
        "    plt.xlabel('Predicted label')\n",
        "    plt.show()\n",
        "    \n",
        "# Print the results in a table\n",
        "df_results = pd.DataFrame(results)\n",
        "df_results = df_results.set_index('Classifier')\n",
        "\n",
        "print(df_results)\n"
      ],
      "metadata": {
        "colab": {
          "base_uri": "https://localhost:8080/",
          "height": 1000
        },
        "id": "4S36VKMJQl8h",
        "outputId": "bbeb8bfe-c8cf-4b37-8544-c4b21f5ba209"
      },
      "execution_count": 28,
      "outputs": [
        {
          "output_type": "display_data",
          "data": {
            "text/plain": [
              "<Figure size 480x480 with 2 Axes>"
            ],
            "image/png": "[encoded data removed]"
          },
          "metadata": {}
        },
        {
          "output_type": "display_data",
          "data": {
            "text/plain": [
              "<Figure size 480x480 with 2 Axes>"
            ],
            "image/png": "[encoded data removed]"
          },
          "metadata": {}
        },
        {
          "output_type": "display_data",
          "data": {
            "text/plain": [
              "<Figure size 480x480 with 2 Axes>"
            ],
            "image/png": "[encoded data removed]"
          },
          "metadata": {}
        },
        {
          "output_type": "display_data",
          "data": {
            "text/plain": [
              "<Figure size 480x480 with 2 Axes>"
            ],
            "image/png": "[encoded data removed]"
          },
          "metadata": {}
        },
        {
          "output_type": "stream",
          "name": "stdout",
          "text": [
            "                     Accuracy  Precision    Recall  Specificity\n",
            "Classifier                                                     \n",
            "Logistic Regression  0.666667   0.636364  0.583333     0.733333\n",
            "Decision Tree        0.777778   0.714286  0.833333     0.733333\n",
            "Random Forest        0.740741   0.692308  0.750000     0.733333\n",
            "SVM                  0.666667   0.636364  0.583333     0.733333\n"
          ]
        }
      ]
    },
    {
      "cell_type": "markdown",
      "source": [
        "## Using Gradient Boosting Classifier"
      ],
      "metadata": {
        "id": "2nHckO5LV27q"
      }
    },
    {
      "cell_type": "code",
      "source": [
        "import pandas as pd\n",
        "from sklearn.ensemble import GradientBoostingClassifier\n",
        "from sklearn.model_selection import train_test_split\n",
        "from sklearn.metrics import accuracy_score, precision_score, recall_score, f1_score, confusion_matrix\n",
        "import matplotlib.pyplot as plt\n",
        "import seaborn as sns\n",
        "\n",
        "# Load the dataset\n",
        "# df = pd.read_csv('dataset.csv')\n",
        "\n",
        "# Split the dataset into training and testing sets\n",
        "X_train, X_test, y_train, y_test = train_test_split(df.drop('target', axis=1), df['target'], test_size=0.3, random_state=42)\n",
        "\n",
        "# Train a Gradient Boosting classifier\n",
        "gbc = GradientBoostingClassifier(n_estimators=100, random_state=42)\n",
        "gbc.fit(X_train, y_train)\n",
        "\n",
        "# Make predictions on the test set\n",
        "y_pred = gbc.predict(X_test)\n",
        "\n",
        "# Calculate performance metrics\n",
        "accuracy = accuracy_score(y_test, y_pred)\n",
        "precision = precision_score(y_test, y_pred)\n",
        "recall = recall_score(y_test, y_pred)\n",
        "f1 = f1_score(y_test, y_pred)\n",
        "cm = confusion_matrix(y_test, y_pred)\n",
        "tn, fp, fn, tp = cm.ravel()\n",
        "\n",
        "# Print performance metrics\n",
        "print('Accuracy:', accuracy)\n",
        "print('Precision:', precision)\n",
        "print('Recall:', recall)\n",
        "print('F1 score:', f1)\n",
        "print('Confusion matrix:')\n",
        "print(cm)\n",
        "\n",
        "# Plot the confusion matrix\n",
        "sns.heatmap(cm, annot=True, cmap='Blues', fmt='g')\n",
        "plt.title('Confusion matrix')\n",
        "plt.xlabel('Predicted label')\n",
        "plt.ylabel('True label')\n",
        "plt.show()\n"
      ],
      "metadata": {
        "colab": {
          "base_uri": "https://localhost:8080/",
          "height": 600
        },
        "id": "y60-sQSFQl_S",
        "outputId": "938d93e7-63f9-4e19-c74d-17930142696b"
      },
      "execution_count": 29,
      "outputs": [
        {
          "output_type": "stream",
          "name": "stdout",
          "text": [
            "Accuracy: 0.7037037037037037\n",
            "Precision: 0.6428571428571429\n",
            "Recall: 0.75\n",
            "F1 score: 0.6923076923076924\n",
            "Confusion matrix:\n",
            "[[10  5]\n",
            " [ 3  9]]\n"
          ]
        },
        {
          "output_type": "display_data",
          "data": {
            "text/plain": [
              "<Figure size 640x480 with 2 Axes>"
            ],
            "image/png": "[encoded data removed]"
          },
          "metadata": {}
        }
      ]
    },
    {
      "cell_type": "markdown",
      "source": [
        "## **Observations :**\n",
        "\n",
        "- Accuracy of the model is 0.7037037037037037, which means the model is correctly predicting 70.37% of the cases.\n",
        "\n",
        "- Precision of the model is 0.6428571428571429, which means out of all the cases the model predicted as positive, only 64.28% of them are actually positive.\n",
        "\n",
        "- Recall of the model is 0.75, which means out of all the actual positive cases, the model predicted 75% of them as positive.\n",
        "\n",
        "- F1 score of the model is 0.6923076923076924, which is the harmonic mean of precision and recall. It indicates the overall performance of the model in terms of both precision and recall.\n",
        "\n",
        "- The confusion matrix shows that the model has misclassified 5 samples of the first class and 3 samples of the second class. It correctly predicted 10 samples of the first class and 9 samples of the second class."
      ],
      "metadata": {
        "id": "t2AY4NIRdkxz"
      }
    },
    {
      "cell_type": "markdown",
      "source": [
        "## Using Artificial Neural Network form Keras"
      ],
      "metadata": {
        "id": "iKCbaQBmaBOy"
      }
    },
    {
      "cell_type": "code",
      "source": [
        "import pandas as pd\n",
        "from sklearn.model_selection import train_test_split\n",
        "from sklearn.metrics import accuracy_score, confusion_matrix\n",
        "from keras.models import Sequential\n",
        "from keras.layers import Dense\n",
        "\n",
        "# Split the dataset into training and testing sets\n",
        "X_train, X_test, y_train, y_test = train_test_split(df.drop('target', axis=1), df['target'], test_size=0.3, random_state=42)\n",
        "\n",
        "# Define the neural network model\n",
        "model = Sequential()\n",
        "model.add(Dense(64, input_dim=X_train.shape[1], activation='relu'))\n",
        "model.add(Dense(32, activation='relu'))\n",
        "model.add(Dense(1, activation='sigmoid'))\n",
        "\n",
        "# Compile the model\n",
        "model.compile(loss='binary_crossentropy', optimizer='adam', metrics=['accuracy'])\n",
        "\n",
        "# Train the model\n",
        "model.fit(X_train, y_train, epochs=150, batch_size=32)\n",
        "\n",
        "# Make predictions on the test set\n",
        "y_pred_prob = model.predict(X_test)\n",
        "y_pred = (y_pred_prob > 0.5).astype(int)\n",
        "\n",
        "# Calculate accuracy and confusion matrix\n",
        "accuracy = accuracy_score(y_test, y_pred)\n",
        "cm = confusion_matrix(y_test, y_pred)\n",
        "\n",
        "# Print accuracy and confusion matrix\n",
        "print('Accuracy:', accuracy)\n",
        "print('Confusion matrix:', cm)\n",
        "\n",
        "# Plot the confusion matrix\n",
        "plt.matshow(cm)\n",
        "plt.title('Confusion matrix')\n",
        "plt.colorbar()\n",
        "plt.ylabel('True label')\n",
        "plt.xlabel('Predicted label')\n",
        "plt.show()"
      ],
      "metadata": {
        "colab": {
          "base_uri": "https://localhost:8080/",
          "height": 1000
        },
        "id": "Du0EeX3LVyJf",
        "outputId": "10d5df15-28ac-49f0-d0c4-4e9e62d7400f"
      },
      "execution_count": 39,
      "outputs": [
        {
          "output_type": "stream",
          "name": "stdout",
          "text": [
            "Epoch 1/150\n",
            "2/2 [==============================] - 1s 12ms/step - loss: 67.5040 - accuracy: 0.4762\n",
            "Epoch 2/150\n",
            "2/2 [==============================] - 0s 8ms/step - loss: 53.0766 - accuracy: 0.4762\n",
            "Epoch 3/150\n",
            "2/2 [==============================] - 0s 9ms/step - loss: 40.1037 - accuracy: 0.4762\n",
            "Epoch 4/150\n",
            "2/2 [==============================] - 0s 9ms/step - loss: 26.2376 - accuracy: 0.4762\n",
            "Epoch 5/150\n",
            "2/2 [==============================] - 0s 7ms/step - loss: 13.6505 - accuracy: 0.4921\n",
            "Epoch 6/150\n",
            "2/2 [==============================] - 0s 7ms/step - loss: 3.9233 - accuracy: 0.5079\n",
            "Epoch 7/150\n",
            "2/2 [==============================] - 0s 7ms/step - loss: 6.6595 - accuracy: 0.5238\n",
            "Epoch 8/150\n",
            "2/2 [==============================] - 0s 8ms/step - loss: 9.9365 - accuracy: 0.5238\n",
            "Epoch 9/150\n",
            "2/2 [==============================] - 0s 9ms/step - loss: 10.4415 - accuracy: 0.5238\n",
            "Epoch 10/150\n",
            "2/2 [==============================] - 0s 8ms/step - loss: 8.8992 - accuracy: 0.5238\n",
            "Epoch 11/150\n",
            "2/2 [==============================] - 0s 8ms/step - loss: 6.4471 - accuracy: 0.5238\n",
            "Epoch 12/150\n",
            "2/2 [==============================] - 0s 8ms/step - loss: 3.0278 - accuracy: 0.5238\n",
            "Epoch 13/150\n",
            "2/2 [==============================] - 0s 8ms/step - loss: 1.8156 - accuracy: 0.4762\n",
            "Epoch 14/150\n",
            "2/2 [==============================] - 0s 9ms/step - loss: 3.8018 - accuracy: 0.5079\n",
            "Epoch 15/150\n",
            "2/2 [==============================] - 0s 9ms/step - loss: 3.7101 - accuracy: 0.5079\n",
            "Epoch 16/150\n",
            "2/2 [==============================] - 0s 10ms/step - loss: 1.6651 - accuracy: 0.5238\n",
            "Epoch 17/150\n",
            "2/2 [==============================] - 0s 9ms/step - loss: 1.4289 - accuracy: 0.5238\n",
            "Epoch 18/150\n",
            "2/2 [==============================] - 0s 7ms/step - loss: 2.3869 - accuracy: 0.5238\n",
            "Epoch 19/150\n",
            "2/2 [==============================] - 0s 8ms/step - loss: 1.8856 - accuracy: 0.5238\n",
            "Epoch 20/150\n",
            "2/2 [==============================] - 0s 7ms/step - loss: 0.7742 - accuracy: 0.5556\n",
            "Epoch 21/150\n",
            "2/2 [==============================] - 0s 7ms/step - loss: 1.4866 - accuracy: 0.5238\n",
            "Epoch 22/150\n",
            "2/2 [==============================] - 0s 7ms/step - loss: 1.3170 - accuracy: 0.5238\n",
            "Epoch 23/150\n",
            "2/2 [==============================] - 0s 8ms/step - loss: 0.8439 - accuracy: 0.4762\n",
            "Epoch 24/150\n",
            "2/2 [==============================] - 0s 10ms/step - loss: 1.3528 - accuracy: 0.5238\n",
            "Epoch 25/150\n",
            "2/2 [==============================] - 0s 9ms/step - loss: 1.0060 - accuracy: 0.5238\n",
            "Epoch 26/150\n",
            "2/2 [==============================] - 0s 7ms/step - loss: 0.8608 - accuracy: 0.5397\n",
            "Epoch 27/150\n",
            "2/2 [==============================] - 0s 11ms/step - loss: 0.9458 - accuracy: 0.5079\n",
            "Epoch 28/150\n",
            "2/2 [==============================] - 0s 8ms/step - loss: 0.6901 - accuracy: 0.6190\n",
            "Epoch 29/150\n",
            "2/2 [==============================] - 0s 8ms/step - loss: 0.8649 - accuracy: 0.5238\n",
            "Epoch 30/150\n",
            "2/2 [==============================] - 0s 7ms/step - loss: 0.6353 - accuracy: 0.6190\n",
            "Epoch 31/150\n",
            "2/2 [==============================] - 0s 8ms/step - loss: 0.7733 - accuracy: 0.5238\n",
            "Epoch 32/150\n",
            "2/2 [==============================] - 0s 8ms/step - loss: 0.6812 - accuracy: 0.5079\n",
            "Epoch 33/150\n",
            "2/2 [==============================] - 0s 8ms/step - loss: 0.7215 - accuracy: 0.5238\n",
            "Epoch 34/150\n",
            "2/2 [==============================] - 0s 8ms/step - loss: 0.6623 - accuracy: 0.6508\n",
            "Epoch 35/150\n",
            "2/2 [==============================] - 0s 8ms/step - loss: 0.6750 - accuracy: 0.5556\n",
            "Epoch 36/150\n",
            "2/2 [==============================] - 0s 8ms/step - loss: 0.6353 - accuracy: 0.6349\n",
            "Epoch 37/150\n",
            "2/2 [==============================] - 0s 11ms/step - loss: 0.6589 - accuracy: 0.5873\n",
            "Epoch 38/150\n",
            "2/2 [==============================] - 0s 9ms/step - loss: 0.6232 - accuracy: 0.6508\n",
            "Epoch 39/150\n",
            "2/2 [==============================] - 0s 8ms/step - loss: 0.6475 - accuracy: 0.5556\n",
            "Epoch 40/150\n",
            "2/2 [==============================] - 0s 8ms/step - loss: 0.6616 - accuracy: 0.6349\n",
            "Epoch 41/150\n",
            "2/2 [==============================] - 0s 8ms/step - loss: 0.6356 - accuracy: 0.6508\n",
            "Epoch 42/150\n",
            "2/2 [==============================] - 0s 8ms/step - loss: 0.6261 - accuracy: 0.6032\n",
            "Epoch 43/150\n",
            "2/2 [==============================] - 0s 7ms/step - loss: 0.6301 - accuracy: 0.6190\n",
            "Epoch 44/150\n",
            "2/2 [==============================] - 0s 7ms/step - loss: 0.6441 - accuracy: 0.6508\n",
            "Epoch 45/150\n",
            "2/2 [==============================] - 0s 8ms/step - loss: 0.6228 - accuracy: 0.6984\n",
            "Epoch 46/150\n",
            "2/2 [==============================] - 0s 8ms/step - loss: 0.6241 - accuracy: 0.6032\n",
            "Epoch 47/150\n",
            "2/2 [==============================] - 0s 7ms/step - loss: 0.6197 - accuracy: 0.6190\n",
            "Epoch 48/150\n",
            "2/2 [==============================] - 0s 8ms/step - loss: 0.6178 - accuracy: 0.6349\n",
            "Epoch 49/150\n",
            "2/2 [==============================] - 0s 7ms/step - loss: 0.6025 - accuracy: 0.6508\n",
            "Epoch 50/150\n",
            "2/2 [==============================] - 0s 8ms/step - loss: 0.6134 - accuracy: 0.6825\n",
            "Epoch 51/150\n",
            "2/2 [==============================] - 0s 8ms/step - loss: 0.6036 - accuracy: 0.6825\n",
            "Epoch 52/150\n",
            "2/2 [==============================] - 0s 9ms/step - loss: 0.6228 - accuracy: 0.6190\n",
            "Epoch 53/150\n",
            "2/2 [==============================] - 0s 9ms/step - loss: 0.5942 - accuracy: 0.7143\n",
            "Epoch 54/150\n",
            "2/2 [==============================] - 0s 9ms/step - loss: 0.6415 - accuracy: 0.5873\n",
            "Epoch 55/150\n",
            "2/2 [==============================] - 0s 9ms/step - loss: 0.6634 - accuracy: 0.6349\n",
            "Epoch 56/150\n",
            "2/2 [==============================] - 0s 8ms/step - loss: 0.6559 - accuracy: 0.6667\n",
            "Epoch 57/150\n",
            "2/2 [==============================] - 0s 9ms/step - loss: 0.6166 - accuracy: 0.6667\n",
            "Epoch 58/150\n",
            "2/2 [==============================] - 0s 9ms/step - loss: 0.6046 - accuracy: 0.6667\n",
            "Epoch 59/150\n",
            "2/2 [==============================] - 0s 8ms/step - loss: 0.6194 - accuracy: 0.5714\n",
            "Epoch 60/150\n",
            "2/2 [==============================] - 0s 13ms/step - loss: 0.6052 - accuracy: 0.6667\n",
            "Epoch 61/150\n",
            "2/2 [==============================] - 0s 9ms/step - loss: 0.5970 - accuracy: 0.6349\n",
            "Epoch 62/150\n",
            "2/2 [==============================] - 0s 8ms/step - loss: 0.5868 - accuracy: 0.7619\n",
            "Epoch 63/150\n",
            "2/2 [==============================] - 0s 8ms/step - loss: 0.5920 - accuracy: 0.7302\n",
            "Epoch 64/150\n",
            "2/2 [==============================] - 0s 9ms/step - loss: 0.5871 - accuracy: 0.6825\n",
            "Epoch 65/150\n",
            "2/2 [==============================] - 0s 8ms/step - loss: 0.6005 - accuracy: 0.6667\n",
            "Epoch 66/150\n",
            "2/2 [==============================] - 0s 8ms/step - loss: 0.5975 - accuracy: 0.7302\n",
            "Epoch 67/150\n",
            "2/2 [==============================] - 0s 8ms/step - loss: 0.5974 - accuracy: 0.6667\n",
            "Epoch 68/150\n",
            "2/2 [==============================] - 0s 8ms/step - loss: 0.5850 - accuracy: 0.7302\n",
            "Epoch 69/150\n",
            "2/2 [==============================] - 0s 11ms/step - loss: 0.6102 - accuracy: 0.6349\n",
            "Epoch 70/150\n",
            "2/2 [==============================] - 0s 10ms/step - loss: 0.5699 - accuracy: 0.7619\n",
            "Epoch 71/150\n",
            "2/2 [==============================] - 0s 8ms/step - loss: 0.6026 - accuracy: 0.6667\n",
            "Epoch 72/150\n",
            "2/2 [==============================] - 0s 7ms/step - loss: 0.5989 - accuracy: 0.6508\n",
            "Epoch 73/150\n",
            "2/2 [==============================] - 0s 7ms/step - loss: 0.5759 - accuracy: 0.7302\n",
            "Epoch 74/150\n",
            "2/2 [==============================] - 0s 7ms/step - loss: 0.5979 - accuracy: 0.6825\n",
            "Epoch 75/150\n",
            "2/2 [==============================] - 0s 8ms/step - loss: 0.6026 - accuracy: 0.6508\n",
            "Epoch 76/150\n",
            "2/2 [==============================] - 0s 15ms/step - loss: 0.6063 - accuracy: 0.6190\n",
            "Epoch 77/150\n",
            "2/2 [==============================] - 0s 11ms/step - loss: 0.5903 - accuracy: 0.7143\n",
            "Epoch 78/150\n",
            "2/2 [==============================] - 0s 9ms/step - loss: 0.6698 - accuracy: 0.6032\n",
            "Epoch 79/150\n",
            "2/2 [==============================] - 0s 9ms/step - loss: 0.6678 - accuracy: 0.5556\n",
            "Epoch 80/150\n",
            "2/2 [==============================] - 0s 12ms/step - loss: 0.6042 - accuracy: 0.6508\n",
            "Epoch 81/150\n",
            "2/2 [==============================] - 0s 15ms/step - loss: 0.6355 - accuracy: 0.6190\n",
            "Epoch 82/150\n",
            "2/2 [==============================] - 0s 12ms/step - loss: 0.5743 - accuracy: 0.6667\n",
            "Epoch 83/150\n",
            "2/2 [==============================] - 0s 12ms/step - loss: 0.5982 - accuracy: 0.6667\n",
            "Epoch 84/150\n",
            "2/2 [==============================] - 0s 9ms/step - loss: 0.5686 - accuracy: 0.7778\n",
            "Epoch 85/150\n",
            "2/2 [==============================] - 0s 7ms/step - loss: 0.6217 - accuracy: 0.6032\n",
            "Epoch 86/150\n",
            "2/2 [==============================] - 0s 9ms/step - loss: 0.5692 - accuracy: 0.7460\n",
            "Epoch 87/150\n",
            "2/2 [==============================] - 0s 9ms/step - loss: 0.5647 - accuracy: 0.7460\n",
            "Epoch 88/150\n",
            "2/2 [==============================] - 0s 9ms/step - loss: 0.5607 - accuracy: 0.7937\n",
            "Epoch 89/150\n",
            "2/2 [==============================] - 0s 9ms/step - loss: 0.5704 - accuracy: 0.7143\n",
            "Epoch 90/150\n",
            "2/2 [==============================] - 0s 10ms/step - loss: 0.5973 - accuracy: 0.6667\n",
            "Epoch 91/150\n",
            "2/2 [==============================] - 0s 9ms/step - loss: 0.5723 - accuracy: 0.7302\n",
            "Epoch 92/150\n",
            "2/2 [==============================] - 0s 9ms/step - loss: 0.6006 - accuracy: 0.6667\n",
            "Epoch 93/150\n",
            "2/2 [==============================] - 0s 8ms/step - loss: 0.5644 - accuracy: 0.7302\n",
            "Epoch 94/150\n",
            "2/2 [==============================] - 0s 8ms/step - loss: 0.5720 - accuracy: 0.7143\n",
            "Epoch 95/150\n",
            "2/2 [==============================] - 0s 8ms/step - loss: 0.5674 - accuracy: 0.7143\n",
            "Epoch 96/150\n",
            "2/2 [==============================] - 0s 8ms/step - loss: 0.5716 - accuracy: 0.7302\n",
            "Epoch 97/150\n",
            "2/2 [==============================] - 0s 9ms/step - loss: 0.5453 - accuracy: 0.7619\n",
            "Epoch 98/150\n",
            "2/2 [==============================] - 0s 11ms/step - loss: 0.5598 - accuracy: 0.7143\n",
            "Epoch 99/150\n",
            "2/2 [==============================] - 0s 12ms/step - loss: 0.5435 - accuracy: 0.7302\n",
            "Epoch 100/150\n",
            "2/2 [==============================] - 0s 9ms/step - loss: 0.5468 - accuracy: 0.7619\n",
            "Epoch 101/150\n",
            "2/2 [==============================] - 0s 12ms/step - loss: 0.5403 - accuracy: 0.7460\n",
            "Epoch 102/150\n",
            "2/2 [==============================] - 0s 10ms/step - loss: 0.5562 - accuracy: 0.7937\n",
            "Epoch 103/150\n",
            "2/2 [==============================] - 0s 11ms/step - loss: 0.5373 - accuracy: 0.7937\n",
            "Epoch 104/150\n",
            "2/2 [==============================] - 0s 9ms/step - loss: 0.5689 - accuracy: 0.7302\n",
            "Epoch 105/150\n",
            "2/2 [==============================] - 0s 9ms/step - loss: 0.5927 - accuracy: 0.6190\n",
            "Epoch 106/150\n",
            "2/2 [==============================] - 0s 8ms/step - loss: 0.5832 - accuracy: 0.6984\n",
            "Epoch 107/150\n",
            "2/2 [==============================] - 0s 8ms/step - loss: 0.5487 - accuracy: 0.6984\n",
            "Epoch 108/150\n",
            "2/2 [==============================] - 0s 8ms/step - loss: 0.5535 - accuracy: 0.7460\n",
            "Epoch 109/150\n",
            "2/2 [==============================] - 0s 9ms/step - loss: 0.5292 - accuracy: 0.7460\n",
            "Epoch 110/150\n",
            "2/2 [==============================] - 0s 8ms/step - loss: 0.5716 - accuracy: 0.7302\n",
            "Epoch 111/150\n",
            "2/2 [==============================] - 0s 8ms/step - loss: 0.5281 - accuracy: 0.8095\n",
            "Epoch 112/150\n",
            "2/2 [==============================] - 0s 12ms/step - loss: 0.5293 - accuracy: 0.7778\n",
            "Epoch 113/150\n",
            "2/2 [==============================] - 0s 9ms/step - loss: 0.5304 - accuracy: 0.8095\n",
            "Epoch 114/150\n",
            "2/2 [==============================] - 0s 9ms/step - loss: 0.5467 - accuracy: 0.7460\n",
            "Epoch 115/150\n",
            "2/2 [==============================] - 0s 9ms/step - loss: 0.5415 - accuracy: 0.7937\n",
            "Epoch 116/150\n",
            "2/2 [==============================] - 0s 9ms/step - loss: 0.5354 - accuracy: 0.7460\n",
            "Epoch 117/150\n",
            "2/2 [==============================] - 0s 10ms/step - loss: 0.5294 - accuracy: 0.7778\n",
            "Epoch 118/150\n",
            "2/2 [==============================] - 0s 9ms/step - loss: 0.5820 - accuracy: 0.6667\n",
            "Epoch 119/150\n",
            "2/2 [==============================] - 0s 9ms/step - loss: 0.5457 - accuracy: 0.7143\n",
            "Epoch 120/150\n",
            "2/2 [==============================] - 0s 11ms/step - loss: 0.5360 - accuracy: 0.7619\n",
            "Epoch 121/150\n",
            "2/2 [==============================] - 0s 10ms/step - loss: 0.5849 - accuracy: 0.6667\n",
            "Epoch 122/150\n",
            "2/2 [==============================] - 0s 9ms/step - loss: 0.5324 - accuracy: 0.7619\n",
            "Epoch 123/150\n",
            "2/2 [==============================] - 0s 9ms/step - loss: 0.5815 - accuracy: 0.7302\n",
            "Epoch 124/150\n",
            "2/2 [==============================] - 0s 8ms/step - loss: 0.5371 - accuracy: 0.7619\n",
            "Epoch 125/150\n",
            "2/2 [==============================] - 0s 8ms/step - loss: 0.5197 - accuracy: 0.8095\n",
            "Epoch 126/150\n",
            "2/2 [==============================] - 0s 9ms/step - loss: 0.5124 - accuracy: 0.7937\n",
            "Epoch 127/150\n",
            "2/2 [==============================] - 0s 10ms/step - loss: 0.5127 - accuracy: 0.7937\n",
            "Epoch 128/150\n",
            "2/2 [==============================] - 0s 9ms/step - loss: 0.5538 - accuracy: 0.7143\n",
            "Epoch 129/150\n",
            "2/2 [==============================] - 0s 8ms/step - loss: 0.5173 - accuracy: 0.8095\n",
            "Epoch 130/150\n",
            "2/2 [==============================] - 0s 10ms/step - loss: 0.5164 - accuracy: 0.7778\n",
            "Epoch 131/150\n",
            "2/2 [==============================] - 0s 8ms/step - loss: 0.5571 - accuracy: 0.6667\n",
            "Epoch 132/150\n",
            "2/2 [==============================] - 0s 12ms/step - loss: 0.5722 - accuracy: 0.6190\n",
            "Epoch 133/150\n",
            "2/2 [==============================] - 0s 12ms/step - loss: 0.5719 - accuracy: 0.6825\n",
            "Epoch 134/150\n",
            "2/2 [==============================] - 0s 11ms/step - loss: 0.6296 - accuracy: 0.5873\n",
            "Epoch 135/150\n",
            "2/2 [==============================] - 0s 12ms/step - loss: 0.5156 - accuracy: 0.7778\n",
            "Epoch 136/150\n",
            "2/2 [==============================] - 0s 8ms/step - loss: 0.5158 - accuracy: 0.7937\n",
            "Epoch 137/150\n",
            "2/2 [==============================] - 0s 9ms/step - loss: 0.5109 - accuracy: 0.7778\n",
            "Epoch 138/150\n",
            "2/2 [==============================] - 0s 8ms/step - loss: 0.5033 - accuracy: 0.7778\n",
            "Epoch 139/150\n",
            "2/2 [==============================] - 0s 10ms/step - loss: 0.5092 - accuracy: 0.7937\n",
            "Epoch 140/150\n",
            "2/2 [==============================] - 0s 9ms/step - loss: 0.5177 - accuracy: 0.7619\n",
            "Epoch 141/150\n",
            "2/2 [==============================] - 0s 10ms/step - loss: 0.5185 - accuracy: 0.7619\n",
            "Epoch 142/150\n",
            "2/2 [==============================] - 0s 9ms/step - loss: 0.4978 - accuracy: 0.7460\n",
            "Epoch 143/150\n",
            "2/2 [==============================] - 0s 8ms/step - loss: 0.5282 - accuracy: 0.7619\n",
            "Epoch 144/150\n",
            "2/2 [==============================] - 0s 8ms/step - loss: 0.5110 - accuracy: 0.7778\n",
            "Epoch 145/150\n",
            "2/2 [==============================] - 0s 8ms/step - loss: 0.5008 - accuracy: 0.7778\n",
            "Epoch 146/150\n",
            "2/2 [==============================] - 0s 9ms/step - loss: 0.5011 - accuracy: 0.7619\n",
            "Epoch 147/150\n",
            "2/2 [==============================] - 0s 11ms/step - loss: 0.5578 - accuracy: 0.7143\n",
            "Epoch 148/150\n",
            "2/2 [==============================] - 0s 11ms/step - loss: 0.4893 - accuracy: 0.7778\n",
            "Epoch 149/150\n",
            "2/2 [==============================] - 0s 12ms/step - loss: 0.5220 - accuracy: 0.7460\n",
            "Epoch 150/150\n",
            "2/2 [==============================] - 0s 9ms/step - loss: 0.5461 - accuracy: 0.7143\n",
            "1/1 [==============================] - 0s 72ms/step\n",
            "Accuracy: 0.6296296296296297\n",
            "Confusion matrix: [[12  3]\n",
            " [ 7  5]]\n"
          ]
        },
        {
          "output_type": "display_data",
          "data": {
            "text/plain": [
              "<Figure size 480x480 with 2 Axes>"
            ],
            "image/png": "[encoded data removed]"
          },
          "metadata": {}
        }
      ]
    },
    {
      "cell_type": "markdown",
      "source": [
        "## **Observations :**\n",
        "\n",
        "- The accuracy of the model is 0.63 or 63%, which means that the model correctly predicted 63% of the test data labels. The confusion matrix shows that there are a total of 15 test data points in the first class and 12 test data points in the second class. \n",
        "\n",
        "- Out of these, the model correctly predicted 12 samples of the first class and 5 samples of the second class. However, the model misclassified 3 samples of the first class as the second class and 7 samples of the second class as the first class."
      ],
      "metadata": {
        "id": "vTs5QG08dRpV"
      }
    },
    {
      "cell_type": "markdown",
      "source": [
        "## Performing Grid Search to find Optimal parameters"
      ],
      "metadata": {
        "id": "GvI7dK5ecdIU"
      }
    },
    {
      "cell_type": "code",
      "source": [
        "import pandas as pd\n",
        "from sklearn.model_selection import train_test_split, GridSearchCV\n",
        "from sklearn.metrics import accuracy_score, confusion_matrix\n",
        "from keras.models import Sequential\n",
        "from keras.layers import Dense\n",
        "from keras.wrappers.scikit_learn import KerasClassifier\n",
        "\n",
        "# Define the neural network model as a function\n",
        "def create_model(units_1=84, units_2=42, optimizer='adam'):\n",
        "    model = Sequential()\n",
        "    model.add(Dense(units_1, input_dim=X_train.shape[1], activation='relu'))\n",
        "    model.add(Dense(units_2, activation='relu'))\n",
        "    model.add(Dense(1, activation='sigmoid'))\n",
        "    model.compile(loss='binary_crossentropy', optimizer=optimizer, metrics=['accuracy'])\n",
        "    return model\n",
        "\n",
        "# Split the dataset into training and testing sets\n",
        "X_train, X_test, y_train, y_test = train_test_split(df.drop('target', axis=1), df['target'], test_size=0.3, random_state=42)\n",
        "\n",
        "# Create a Keras classifier for use with scikit-learn\n",
        "model = KerasClassifier(build_fn=create_model, epochs=150, batch_size=32, verbose=0)\n",
        "\n",
        "# Define the grid search parameters\n",
        "param_grid = {\n",
        "    'units_1': [64, 84, 128],\n",
        "    'units_2': [32, 42, 64],\n",
        "    'optimizer': ['adam', 'sgd', 'rmsprop']\n",
        "}\n",
        "\n",
        "# Perform grid search\n",
        "grid = GridSearchCV(estimator=model, param_grid=param_grid, cv=3)\n",
        "grid_result = grid.fit(X_train, y_train)\n",
        "\n",
        "# Print the results\n",
        "print('Best parameters:', grid_result.best_params_)\n",
        "print('Best score:', grid_result.best_score_)\n",
        "\n",
        "# Make predictions on the test set using the best model\n",
        "best_model = grid_result.best_estimator_\n",
        "y_pred_prob = best_model.predict(X_test)\n",
        "y_pred = (y_pred_prob > 0.5).astype(int)\n",
        "\n",
        "# Calculate accuracy and confusion matrix\n",
        "accuracy = accuracy_score(y_test, y_pred)\n",
        "cm = confusion_matrix(y_test, y_pred)\n",
        "\n",
        "# Print accuracy and confusion matrix\n",
        "print('Accuracy:', accuracy)\n",
        "print('Confusion matrix:', cm)\n"
      ],
      "metadata": {
        "colab": {
          "base_uri": "https://localhost:8080/"
        },
        "id": "nK95gNeYZfuJ",
        "outputId": "88bc87f8-60ce-4dee-c017-a002e1d6d014"
      },
      "execution_count": 37,
      "outputs": [
        {
          "output_type": "stream",
          "name": "stderr",
          "text": [
            "<ipython-input-37-6d90a08d51ac>:21: DeprecationWarning: KerasClassifier is deprecated, use Sci-Keras (https://github.com/adriangb/scikeras) instead. See https://www.adriangb.com/scikeras/stable/migration.html for help migrating.\n",
            "  model = KerasClassifier(build_fn=create_model, epochs=150, batch_size=32, verbose=0)\n",
            "WARNING:tensorflow:5 out of the last 44 calls to <function Model.make_test_function.<locals>.test_function at 0x7fa925d5e940> triggered tf.function retracing. Tracing is expensive and the excessive number of tracings could be due to (1) creating @tf.function repeatedly in a loop, (2) passing tensors with different shapes, (3) passing Python objects instead of tensors. For (1), please define your @tf.function outside of the loop. For (2), @tf.function has reduce_retracing=True option that can avoid unnecessary retracing. For (3), please refer to https://www.tensorflow.org/guide/function#controlling_retracing and https://www.tensorflow.org/api_docs/python/tf/function for  more details.\n",
            "WARNING:tensorflow:6 out of the last 45 calls to <function Model.make_test_function.<locals>.test_function at 0x7fa92130f4c0> triggered tf.function retracing. Tracing is expensive and the excessive number of tracings could be due to (1) creating @tf.function repeatedly in a loop, (2) passing tensors with different shapes, (3) passing Python objects instead of tensors. For (1), please define your @tf.function outside of the loop. For (2), @tf.function has reduce_retracing=True option that can avoid unnecessary retracing. For (3), please refer to https://www.tensorflow.org/guide/function#controlling_retracing and https://www.tensorflow.org/api_docs/python/tf/function for  more details.\n",
            "WARNING:tensorflow:6 out of the last 6 calls to <function Model.make_predict_function.<locals>.predict_function at 0x7fa926033b80> triggered tf.function retracing. Tracing is expensive and the excessive number of tracings could be due to (1) creating @tf.function repeatedly in a loop, (2) passing tensors with different shapes, (3) passing Python objects instead of tensors. For (1), please define your @tf.function outside of the loop. For (2), @tf.function has reduce_retracing=True option that can avoid unnecessary retracing. For (3), please refer to https://www.tensorflow.org/guide/function#controlling_retracing and https://www.tensorflow.org/api_docs/python/tf/function for  more details.\n"
          ]
        },
        {
          "output_type": "stream",
          "name": "stdout",
          "text": [
            "Best parameters: {'optimizer': 'adam', 'units_1': 64, 'units_2': 32}\n",
            "Best score: 0.6666666865348816\n",
            "1/1 [==============================] - 0s 61ms/step\n",
            "Accuracy: 0.48148148148148145\n",
            "Confusion matrix: [[12  3]\n",
            " [11  1]]\n"
          ]
        }
      ]
    },
    {
      "cell_type": "markdown",
      "source": [
        "## **Observations :**\n",
        "\n",
        "- The output suggests that the best parameters found by the GridSearchCV are {'optimizer': 'adam', 'units_1': 64, 'units_2': 32}, and the corresponding best score is 0.6666666865348816.\n",
        "\n",
        "- However, when these parameters are used to train the model and make predictions on the test set, the accuracy is found to be 0.48148148148148145, which is relatively low. The confusion matrix shows that the model is not performing well in predicting both classes, as it has misclassified 12 out of 15 samples of the first class and 11 out of 12 samples of the second class.\n",
        "\n",
        "- Therefore, even though the GridSearchCV has found the best parameters, they may not necessarily result in a high-performing model. It is possible that more complex models or additional feature engineering may be required to improve the accuracy of the model."
      ],
      "metadata": {
        "id": "MKl99Lp_cz_h"
      }
    },
    {
      "cell_type": "markdown",
      "source": [
        "## **Conclusion :**\n",
        "\n",
        "- After analyzing different methods applied above, it appears that traditional machine learning algorithms are giving good results especially Decision Trees.\n",
        "\n",
        "- However, the Neural Network's result was not satisfactory, but we can still fine-tune the model by adjusting hyperparameters or adding more data.\n",
        "\n",
        "- It's evident that the dataset is insufficient in size, and we might need more data to improve the model's performance."
      ],
      "metadata": {
        "id": "vgbls-4Od95r"
      }
    }
  ]
}